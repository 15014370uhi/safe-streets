{
 "cells": [
  {
   "cell_type": "code",
   "execution_count": 1,
   "source": [
    "import pandas as pd\r\n",
    "import matplotlib.colors as colors\r\n",
    "import joblib\r\n",
    "import glob\r\n",
    "\r\n",
    "from sklearn.cluster import KMeans\r\n",
    "from yellowbrick.cluster import KElbowVisualizer"
   ],
   "outputs": [],
   "metadata": {}
  },
  {
   "cell_type": "code",
   "execution_count": 4,
   "source": [
    "#function which reads all csv files in a folder and returns a dataframe representation\r\n",
    "def getCSVData():\r\n",
    "    \r\n",
    "    #declare variable to hold data frame\r\n",
    "    df = pd.DataFrame()\r\n",
    "    \r\n",
    "    #declare variable to hold cleaned CSV data\r\n",
    "    cleanedData = []\r\n",
    "    \r\n",
    "    #get reference to all CSV files in subfolders        \r\n",
    "    pathname = \"data/**/*.csv\"\r\n",
    "    allFiles = []    \r\n",
    "    \r\n",
    "    for file in glob.iglob(pathname, recursive=True):\r\n",
    "        allFiles.append(file)    \r\n",
    "    \r\n",
    "    #for each CSV file in specified path\r\n",
    "    for aFile in allFiles:   \r\n",
    "         \r\n",
    "        #reading CSV data\r\n",
    "        CSVData = pd.read_csv(aFile, usecols=['Latitude', 'Longitude'])     \r\n",
    "        \r\n",
    "        #filter out any CSV rows with missing data          \r\n",
    "        CSVData = CSVData.loc[pd.notna(CSVData['Latitude'])\r\n",
    "                        & pd.notna(CSVData['Longitude'])]\r\n",
    "        \r\n",
    "        #append data to array of all data\r\n",
    "        cleanedData.append(CSVData)\r\n",
    "        \r\n",
    "    #convert to data frame\r\n",
    "    df = pd.concat(cleanedData) \r\n",
    "  \r\n",
    "    #rearrange columns\r\n",
    "    df = df[['Latitude', 'Longitude']]    \r\n",
    "   \r\n",
    "    #return the data frame\r\n",
    "    return df\r\n",
    "\r\n",
    "#populate data frame with cleaned CSV data from files\r\n",
    "df = getCSVData()\r\n",
    "\r\n",
    "#inspect data\r\n",
    "df"
   ],
   "outputs": [
    {
     "output_type": "execute_result",
     "data": {
      "text/html": [
       "<div>\n",
       "<style scoped>\n",
       "    .dataframe tbody tr th:only-of-type {\n",
       "        vertical-align: middle;\n",
       "    }\n",
       "\n",
       "    .dataframe tbody tr th {\n",
       "        vertical-align: top;\n",
       "    }\n",
       "\n",
       "    .dataframe thead th {\n",
       "        text-align: right;\n",
       "    }\n",
       "</style>\n",
       "<table border=\"1\" class=\"dataframe\">\n",
       "  <thead>\n",
       "    <tr style=\"text-align: right;\">\n",
       "      <th></th>\n",
       "      <th>Latitude</th>\n",
       "      <th>Longitude</th>\n",
       "    </tr>\n",
       "  </thead>\n",
       "  <tbody>\n",
       "    <tr>\n",
       "      <th>0</th>\n",
       "      <td>51.375673</td>\n",
       "      <td>-2.400736</td>\n",
       "    </tr>\n",
       "    <tr>\n",
       "      <th>1</th>\n",
       "      <td>53.762222</td>\n",
       "      <td>-2.461766</td>\n",
       "    </tr>\n",
       "    <tr>\n",
       "      <th>2</th>\n",
       "      <td>53.762754</td>\n",
       "      <td>-2.451775</td>\n",
       "    </tr>\n",
       "    <tr>\n",
       "      <th>3</th>\n",
       "      <td>53.768343</td>\n",
       "      <td>-2.454551</td>\n",
       "    </tr>\n",
       "    <tr>\n",
       "      <th>4</th>\n",
       "      <td>53.762509</td>\n",
       "      <td>-2.462042</td>\n",
       "    </tr>\n",
       "    <tr>\n",
       "      <th>...</th>\n",
       "      <td>...</td>\n",
       "      <td>...</td>\n",
       "    </tr>\n",
       "    <tr>\n",
       "      <th>16846</th>\n",
       "      <td>53.842843</td>\n",
       "      <td>-3.014279</td>\n",
       "    </tr>\n",
       "    <tr>\n",
       "      <th>16847</th>\n",
       "      <td>53.841978</td>\n",
       "      <td>-3.014486</td>\n",
       "    </tr>\n",
       "    <tr>\n",
       "      <th>16848</th>\n",
       "      <td>53.847695</td>\n",
       "      <td>-3.015536</td>\n",
       "    </tr>\n",
       "    <tr>\n",
       "      <th>16849</th>\n",
       "      <td>53.843795</td>\n",
       "      <td>-3.009028</td>\n",
       "    </tr>\n",
       "    <tr>\n",
       "      <th>16850</th>\n",
       "      <td>53.843175</td>\n",
       "      <td>-3.006778</td>\n",
       "    </tr>\n",
       "  </tbody>\n",
       "</table>\n",
       "<p>428938 rows × 2 columns</p>\n",
       "</div>"
      ],
      "text/plain": [
       "        Latitude  Longitude\n",
       "0      51.375673  -2.400736\n",
       "1      53.762222  -2.461766\n",
       "2      53.762754  -2.451775\n",
       "3      53.768343  -2.454551\n",
       "4      53.762509  -2.462042\n",
       "...          ...        ...\n",
       "16846  53.842843  -3.014279\n",
       "16847  53.841978  -3.014486\n",
       "16848  53.847695  -3.015536\n",
       "16849  53.843795  -3.009028\n",
       "16850  53.843175  -3.006778\n",
       "\n",
       "[428938 rows x 2 columns]"
      ]
     },
     "metadata": {},
     "execution_count": 4
    }
   ],
   "metadata": {}
  },
  {
   "cell_type": "code",
   "execution_count": 5,
   "source": [
    "# Instantiate the clustering model and visualizer\r\n",
    "model = KMeans()\r\n",
    "visualizer = KElbowVisualizer(model, k=(1,30))\r\n",
    "\r\n",
    "visualizer.fit(df)        # Fit the data to the visualizer\r\n",
    "visualizer.show()        # Finalize and render the figure"
   ],
   "outputs": [
    {
     "output_type": "display_data",
     "data": {
      "image/png": "[encoded data removed]",
      "text/plain": [
       "<Figure size 576x396 with 2 Axes>"
      ]
     },
     "metadata": {}
    },
    {
     "output_type": "execute_result",
     "data": {
      "text/plain": [
       "<AxesSubplot:title={'center':'Distortion Score Elbow for KMeans Clustering'}, xlabel='k', ylabel='distortion score'>"
      ]
     },
     "metadata": {},
     "execution_count": 5
    }
   ],
   "metadata": {}
  },
  {
   "cell_type": "code",
   "execution_count": 7,
   "source": [
    "#Although the elbow test specifies an optimal value of 5 clusters, \r\n",
    "#due to the necessity to narrow the crime prediction area, a larger \r\n",
    "#number of clusters was decided at 30 (for lancashire)\r\n",
    "\r\n",
    "# create kmeans model/object\r\n",
    "kmeans = KMeans(\r\n",
    "    init='random',\r\n",
    "    n_clusters=30,\r\n",
    "    random_state=49\r\n",
    ")"
   ],
   "outputs": [],
   "metadata": {}
  },
  {
   "cell_type": "code",
   "execution_count": 8,
   "source": [
    "#complete clustering of location data\r\n",
    "kMeansModel = kmeans.fit(df)\r\n",
    "\r\n",
    "#store cluster results\r\n",
    "labels = kMeansModel.labels_"
   ],
   "outputs": [],
   "metadata": {}
  },
  {
   "cell_type": "code",
   "execution_count": 9,
   "source": [
    "#add cluster values to data frame\r\n",
    "df['Cluster'] = labels\r\n",
    "print(df)"
   ],
   "outputs": [
    {
     "output_type": "stream",
     "name": "stdout",
     "text": [
      "        Latitude  Longitude  Cluster\n",
      "0      51.375673  -2.400736        9\n",
      "1      53.762222  -2.461766        1\n",
      "2      53.762754  -2.451775        1\n",
      "3      53.768343  -2.454551        1\n",
      "4      53.762509  -2.462042        1\n",
      "...          ...        ...      ...\n",
      "16846  53.842843  -3.014279       15\n",
      "16847  53.841978  -3.014486       15\n",
      "16848  53.847695  -3.015536       15\n",
      "16849  53.843795  -3.009028       15\n",
      "16850  53.843175  -3.006778       15\n",
      "\n",
      "[428938 rows x 3 columns]\n"
     ]
    }
   ],
   "metadata": {}
  },
  {
   "cell_type": "code",
   "execution_count": 10,
   "source": [
    "#check how many locations assigned to each cluster\r\n",
    "counts = df.groupby('Cluster').count()\r\n",
    "print(counts)"
   ],
   "outputs": [
    {
     "output_type": "stream",
     "name": "stdout",
     "text": [
      "         Latitude  Longitude\n",
      "Cluster                     \n",
      "0           23063      23063\n",
      "1           18066      18066\n",
      "2           18218      18218\n",
      "3            7964       7964\n",
      "4            7516       7516\n",
      "5           34988      34988\n",
      "6           15981      15981\n",
      "7           30306      30306\n",
      "8            2827       2827\n",
      "9              82         82\n",
      "10          25670      25670\n",
      "11          18118      18118\n",
      "12           5162       5162\n",
      "13          11229      11229\n",
      "14           9802       9802\n",
      "15           7231       7231\n",
      "16          18522      18522\n",
      "17           6784       6784\n",
      "18           2893       2893\n",
      "19          10269      10269\n",
      "20          26389      26389\n",
      "21          11882      11882\n",
      "22           2778       2778\n",
      "23          12579      12579\n",
      "24          18217      18217\n",
      "25          12634      12634\n",
      "26          10987      10987\n",
      "27          19804      19804\n",
      "28             75         75\n",
      "29          38902      38902\n"
     ]
    }
   ],
   "metadata": {}
  },
  {
   "cell_type": "code",
   "execution_count": null,
   "source": [
    "import folium\r\n",
    "colors = ['red',\r\n",
    "    'blue',\r\n",
    "    'gray',\r\n",
    "    'darkred',\r\n",
    "    'lightred',\r\n",
    "    'orange',\r\n",
    "    'beige',\r\n",
    "    'green',\r\n",
    "    'darkgreen',\r\n",
    "    'lightgreen',\r\n",
    "    'darkblue',\r\n",
    "    'lightblue',\r\n",
    "    'purple',\r\n",
    "    'darkpurple',\r\n",
    "    'pink',\r\n",
    "    'cadetblue',\r\n",
    "    'lightgray',\r\n",
    "    'white',\r\n",
    "    'orange',\r\n",
    "    'yellow',\r\n",
    "    'green',\r\n",
    "    'lightgreen',\r\n",
    "    'cadetblue',\r\n",
    "    'darkred',\r\n",
    "    'blue',\r\n",
    "    'red',    \r\n",
    "    'cadetblue',\r\n",
    "    'darkred',\r\n",
    "    'lightred',\r\n",
    "    'yellow',\r\n",
    "    'beige',\r\n",
    "    'green',\r\n",
    "    'darkgreen']   \r\n",
    "\r\n",
    "#random.shuffle(colors)\r\n",
    "\r\n",
    "#SET to middle of lancashire\r\n",
    "#lat = df.iloc[0]['Latitude'] #ensure that all lat and lons are within location zone e.g. lancs\r\n",
    "#lng = df.iloc[0]['Longitude']\r\n",
    "\r\n",
    "#SET to middle of lancashire\r\n",
    "lat = 53.765762\r\n",
    "lon = -2.692337\r\n",
    "\r\n",
    "map = folium.Map(location=[lat, lon], zoom_start=10)\r\n",
    "\r\n",
    "for _, row in df.iterrows():\r\n",
    "    folium.CircleMarker(\r\n",
    "        location=[row['Latitude'], row['Longitude']],\r\n",
    "        radius=6, #10\r\n",
    "        weight=0.6, #2\r\n",
    "        fill=True, \r\n",
    "        fill_color=colors[int(row['Cluster'])],\r\n",
    "        fill_opacity=0.4,\r\n",
    "        color=colors[int(row['Cluster'])]\r\n",
    "    ).add_to(map)\r\n",
    "\r\n",
    "#display map\r\n",
    "map"
   ],
   "outputs": [],
   "metadata": {}
  },
  {
   "cell_type": "code",
   "execution_count": 11,
   "source": [
    "# save the model to disk\r\n",
    "filename = 'KMeansCluster_FINAL.sav'\r\n",
    "\r\n",
    "#show model\r\n",
    "print(kMeansModel.__class__.__name__)\r\n",
    "\r\n",
    "#save model to file\r\n",
    "joblib.dump(kMeansModel, filename)\r\n",
    "\r\n",
    "#load model from file\r\n",
    "myClusterModel = joblib.load(filename)\r\n",
    "\r\n",
    "myClusterModel"
   ],
   "outputs": [
    {
     "output_type": "stream",
     "name": "stdout",
     "text": [
      "KMeans\n"
     ]
    },
    {
     "output_type": "execute_result",
     "data": {
      "text/plain": [
       "KMeans(init='random', n_clusters=30, random_state=49)"
      ]
     },
     "metadata": {},
     "execution_count": 11
    }
   ],
   "metadata": {}
  },
  {
   "cell_type": "code",
   "execution_count": 15,
   "source": [
    "#TEST SAVE DATA with clusters\r\n",
    "#save df to file to check cluster\r\n",
    "#TEST SAVE DF data to check crime type\r\n",
    "df = df.sort_values(by=['Cluster'], ascending=True)\r\n",
    "df.to_csv(r'clusterDFtest.csv', index = False)\r\n"
   ],
   "outputs": [],
   "metadata": {}
  },
  {
   "cell_type": "code",
   "execution_count": 16,
   "source": [
    "#Test \r\n",
    "\r\n",
    "#53.76806556, -2.7738555  Preston cluster 11\r\n",
    "#53.80798969, -3.0528945  Blackpool cluster 16\r\n",
    "location = myClusterModel.predict([[53.76806556, -2.7738555]])\r\n",
    "\r\n",
    "#print(location) #  [16] \r\n",
    "location.item(0) #   16"
   ],
   "outputs": [
    {
     "output_type": "execute_result",
     "data": {
      "text/plain": [
       "10"
      ]
     },
     "metadata": {},
     "execution_count": 16
    }
   ],
   "metadata": {}
  }
 ],
 "metadata": {
  "orig_nbformat": 4,
  "language_info": {
   "name": "python",
   "version": "3.7.11",
   "mimetype": "text/x-python",
   "codemirror_mode": {
    "name": "ipython",
    "version": 3
   },
   "pygments_lexer": "ipython3",
   "nbconvert_exporter": "python",
   "file_extension": ".py"
  },
  "kernelspec": {
   "name": "python3",
   "display_name": "Python 3.7.11 64-bit ('myenv': conda)"
  },
  "interpreter": {
   "hash": "85812558e8c7725aaddf17a91b3e8a8fd8fe73835e904f4e8b5d42403521d6b0"
  }
 },
 "nbformat": 4,
 "nbformat_minor": 2
}